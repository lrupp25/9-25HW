{
  "nbformat": 4,
  "nbformat_minor": 0,
  "metadata": {
    "colab": {
      "provenance": [],
      "authorship_tag": "ABX9TyNszSZQnRyRqDkKZgHIYwCV",
      "include_colab_link": true
    },
    "kernelspec": {
      "name": "python3",
      "display_name": "Python 3"
    },
    "language_info": {
      "name": "python"
    }
  },
  "cells": [
    {
      "cell_type": "markdown",
      "metadata": {
        "id": "view-in-github",
        "colab_type": "text"
      },
      "source": [
        "<a href=\"https://colab.research.google.com/github/lrupp25/9-25HW/blob/main/datanotesnhw.ipynb\" target=\"_parent\"><img src=\"https://colab.research.google.com/assets/colab-badge.svg\" alt=\"Open In Colab\"/></a>"
      ]
    },
    {
      "cell_type": "markdown",
      "source": [
        "stuff to get github commit setup"
      ],
      "metadata": {
        "id": "MXodlK7k0lCI"
      }
    },
    {
      "cell_type": "code",
      "execution_count": null,
      "metadata": {
        "id": "Tz1Oq0CUt6Pn"
      },
      "outputs": [],
      "source": [
        "%%shell\n",
        "\n",
        "git clone"
      ]
    },
    {
      "cell_type": "code",
      "source": [
        "%%shell\n",
        "cd data2000-git-demo\n",
        "git add --all"
      ],
      "metadata": {
        "id": "q0UDCb12uJgX"
      },
      "execution_count": null,
      "outputs": []
    },
    {
      "cell_type": "code",
      "source": [
        "%%shell\n",
        "cd data2000-git-demo\n",
        "git status"
      ],
      "metadata": {
        "id": "5MNomCVGuUSq"
      },
      "execution_count": null,
      "outputs": []
    },
    {
      "cell_type": "code",
      "source": [
        "%%shell\n",
        "cd data2000-git-demo\n",
        "git config --global user.email \"lrupp25@jcu.edu\"\n",
        "get config --global user.name \"Lucas Rupp\"\n",
        "git comit -a -m \"my first commit\""
      ],
      "metadata": {
        "id": "frAvbz_Pueu8"
      },
      "execution_count": null,
      "outputs": []
    },
    {
      "cell_type": "code",
      "source": [
        "%%shell\n",
        "cd data2000-git-demo\n",
        "git push"
      ],
      "metadata": {
        "id": "fH4qAVcguwF3"
      },
      "execution_count": null,
      "outputs": []
    },
    {
      "cell_type": "markdown",
      "source": [
        "homework and cleaning preppin data"
      ],
      "metadata": {
        "id": "M4d8f9N7w-0G"
      }
    },
    {
      "cell_type": "code",
      "source": [
        "input = open('09-25_input-1', 'r')"
      ],
      "metadata": {
        "id": "t876Et2xwZoF"
      },
      "execution_count": null,
      "outputs": []
    },
    {
      "cell_type": "code",
      "source": [
        "input"
      ],
      "metadata": {
        "colab": {
          "base_uri": "https://localhost:8080/"
        },
        "id": "o2QTtepLwdm9",
        "outputId": "960f3e43-655a-4f0f-a9b9-7433bfb6f206"
      },
      "execution_count": null,
      "outputs": [
        {
          "output_type": "execute_result",
          "data": {
            "text/plain": [
              "<_io.TextIOWrapper name='09-25_input-1' mode='r' encoding='UTF-8'>"
            ]
          },
          "metadata": {},
          "execution_count": 2
        }
      ]
    },
    {
      "cell_type": "code",
      "source": [
        "with open('09-25_input-1', 'r') as f:\n",
        "  data = f.readlines()\n",
        "\n",
        "data[0:20]"
      ],
      "metadata": {
        "colab": {
          "base_uri": "https://localhost:8080/"
        },
        "id": "iTfKotLMwjjM",
        "outputId": "72a66027-4105-45be-91dd-c64fdde29327"
      },
      "execution_count": null,
      "outputs": [
        {
          "output_type": "execute_result",
          "data": {
            "text/plain": [
              "['2494\\n',\n",
              " '8013\\n',\n",
              " '1055\\n',\n",
              " '5425\\n',\n",
              " '9104\\n',\n",
              " '10665\\n',\n",
              " '\\n',\n",
              " '10642\\n',\n",
              " '10677\\n',\n",
              " '10300\\n',\n",
              " '7374\\n',\n",
              " '9085\\n',\n",
              " '8508\\n',\n",
              " '7569\\n',\n",
              " '6214\\n',\n",
              " '\\n',\n",
              " '5300\\n',\n",
              " '5960\\n',\n",
              " '8252\\n',\n",
              " '5852\\n']"
            ]
          },
          "metadata": {},
          "execution_count": 6
        }
      ]
    },
    {
      "cell_type": "code",
      "source": [
        "cleaned_data = []\n",
        "for line in data:\n",
        "  cleaned_data.append(line.strip())\n"
      ],
      "metadata": {
        "id": "WbeLCL7HxAtW"
      },
      "execution_count": null,
      "outputs": []
    },
    {
      "cell_type": "code",
      "source": [
        "cleaned_data[0:10]"
      ],
      "metadata": {
        "colab": {
          "base_uri": "https://localhost:8080/"
        },
        "id": "HGG3HaIwztv7",
        "outputId": "e47a6b44-367d-4a97-de8a-d5ed3effde11"
      },
      "execution_count": null,
      "outputs": [
        {
          "output_type": "execute_result",
          "data": {
            "text/plain": [
              "['2494',\n",
              " '8013',\n",
              " '1055',\n",
              " '5425',\n",
              " '9104',\n",
              " '10665',\n",
              " '',\n",
              " '10642',\n",
              " '10677',\n",
              " '10300']"
            ]
          },
          "metadata": {},
          "execution_count": 9
        }
      ]
    },
    {
      "cell_type": "code",
      "source": [
        "elves = []\n",
        "ba = 0\n",
        "for line in cleaned_data:\n",
        "  if line:\n",
        "    ba += int(line)\n",
        "  else:\n",
        "      elves.append(ba)\n",
        "      ba = 0\n",
        "\n",
        "print(elves)"
      ],
      "metadata": {
        "colab": {
          "base_uri": "https://localhost:8080/"
        },
        "id": "wr4q8Vetz6pq",
        "outputId": "f2fa00be-e259-4e91-91e1-8cb34bfbe5c5"
      },
      "execution_count": null,
      "outputs": [
        {
          "output_type": "stream",
          "name": "stdout",
          "text": [
            "[36756, 70369, 46030, 55237, 49273, 61698, 41206, 44233, 56367, 44201, 32018, 37387, 41580, 49624, 48434, 30560, 39161, 46173, 56296, 35211, 50095, 58537, 54079, 35714, 54957, 64459, 57532, 56955, 26072, 37307, 49957, 45779, 50534, 43442, 47706, 53989, 52887, 58969, 59087, 53679, 53645, 9540, 41950, 42664, 59093, 54610, 54749, 57642, 44193, 51811, 57725, 47429, 54352, 47737, 39467, 34327, 44016, 55608, 39769, 54433, 50521, 60294, 49474, 51910, 55010, 49749, 64686, 43246, 43378, 56414, 46049, 52418, 41732, 45909, 36035, 53914, 65111, 49390, 49914, 54498, 51125, 37200, 45668, 36719, 52320, 56373, 13407, 44311, 49278, 59431, 55085, 49991, 42085, 33548, 34867, 43144, 43030, 48300, 56688, 44648, 46987, 56208, 44338, 28794, 47019, 49643, 48918, 45067, 57140, 60109, 38468, 35926, 54367, 45567, 55804, 47463, 54446, 45483, 54775, 66781, 48708, 37863, 54902, 51134, 53017, 43866, 53365, 29457, 10232, 11444, 30021, 37823, 32065, 22486, 34465, 44705, 47623, 35133, 50346, 34619, 50999, 29520, 14867, 54722, 48751, 51088, 50752, 36937, 41793, 28400, 48675, 19117, 37085, 24289, 48077, 40675, 56968, 31349, 42010, 64668, 55060, 54405, 52381, 30134, 33277, 31331, 56841, 38309, 56678, 22211, 52463, 43073, 51145, 52647, 42215, 48072, 40611, 54583, 34582, 63346, 36433, 51362, 46406, 48507, 31845, 65852, 45509, 46043, 48902, 35615, 36401, 48623, 45596, 54097, 47021, 53146, 63968, 58945, 52453, 37830, 59274, 43588, 40046, 49510, 48073, 58310, 63025, 65667, 37526, 55951, 58287, 53790, 47555, 47858, 24592, 48764, 48597, 52023, 30857, 53671, 42521, 28482, 59362, 52942, 58263, 39258, 57464, 53996, 52347, 38088, 40681, 53550, 41747, 46098, 40301, 30761, 42594, 53121, 26024, 42683, 61354, 59555, 50656, 30207, 40949, 12161, 23106, 40339, 65062]\n"
          ]
        }
      ]
    },
    {
      "cell_type": "code",
      "source": [
        "print(max(elves))"
      ],
      "metadata": {
        "colab": {
          "base_uri": "https://localhost:8080/"
        },
        "id": "-OZiOXMB0iyJ",
        "outputId": "4bd117b8-a327-4585-fd90-3c10ba5ac75f"
      },
      "execution_count": null,
      "outputs": [
        {
          "output_type": "stream",
          "name": "stdout",
          "text": [
            "70369\n"
          ]
        }
      ]
    },
    {
      "cell_type": "code",
      "source": [
        "elves.sort(reverse=True)\n",
        "print(elves[0:3])"
      ],
      "metadata": {
        "colab": {
          "base_uri": "https://localhost:8080/"
        },
        "id": "AmEA90JZ6PLs",
        "outputId": "fb7c91df-81a5-4ac6-fe35-a341e37a4a86"
      },
      "execution_count": null,
      "outputs": [
        {
          "output_type": "stream",
          "name": "stdout",
          "text": [
            "[70369, 66781, 65852]\n"
          ]
        }
      ]
    },
    {
      "cell_type": "code",
      "source": [
        "print(sum(elves[0:3]))"
      ],
      "metadata": {
        "colab": {
          "base_uri": "https://localhost:8080/"
        },
        "id": "j1wQcJrf6PW3",
        "outputId": "cf8cb866-aab8-4a81-afde-d9e26f4c3dc3"
      },
      "execution_count": null,
      "outputs": [
        {
          "output_type": "stream",
          "name": "stdout",
          "text": [
            "203002\n"
          ]
        }
      ]
    },
    {
      "cell_type": "markdown",
      "source": [],
      "metadata": {
        "id": "G5CJYt1G0kRd"
      }
    }
  ]
}